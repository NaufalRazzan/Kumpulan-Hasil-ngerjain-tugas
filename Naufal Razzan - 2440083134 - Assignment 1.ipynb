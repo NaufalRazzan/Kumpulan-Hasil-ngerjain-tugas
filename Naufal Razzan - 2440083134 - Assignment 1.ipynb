{
 "cells": [
  {
   "cell_type": "markdown",
   "id": "aec2f33f",
   "metadata": {},
   "source": [
    "Naufal Afthar Razzan, \n",
    "2440083134, \n",
    "LB01, \n",
    "Assignment 1"
   ]
  },
  {
   "cell_type": "markdown",
   "id": "078702de",
   "metadata": {},
   "source": [
    "1).  Find out what categories exist and how many neighbourhood belong to each category by using the value_counts() method"
   ]
  },
  {
   "cell_type": "code",
   "execution_count": 1,
   "id": "363eed5f",
   "metadata": {},
   "outputs": [
    {
     "data": {
      "text/html": [
       "<div>\n",
       "<style scoped>\n",
       "    .dataframe tbody tr th:only-of-type {\n",
       "        vertical-align: middle;\n",
       "    }\n",
       "\n",
       "    .dataframe tbody tr th {\n",
       "        vertical-align: top;\n",
       "    }\n",
       "\n",
       "    .dataframe thead th {\n",
       "        text-align: right;\n",
       "    }\n",
       "</style>\n",
       "<table border=\"1\" class=\"dataframe\">\n",
       "  <thead>\n",
       "    <tr style=\"text-align: right;\">\n",
       "      <th></th>\n",
       "      <th>Date</th>\n",
       "      <th>Location</th>\n",
       "      <th>New Cases</th>\n",
       "      <th>New Deaths</th>\n",
       "      <th>New Recovered</th>\n",
       "      <th>Total Cases</th>\n",
       "      <th>Total Deaths</th>\n",
       "      <th>Total Recovered</th>\n",
       "    </tr>\n",
       "  </thead>\n",
       "  <tbody>\n",
       "    <tr>\n",
       "      <th>0</th>\n",
       "      <td>3/1/2020</td>\n",
       "      <td>DKI Jakarta</td>\n",
       "      <td>2</td>\n",
       "      <td>NaN</td>\n",
       "      <td>NaN</td>\n",
       "      <td>489</td>\n",
       "      <td>20.0</td>\n",
       "      <td>39.0</td>\n",
       "    </tr>\n",
       "    <tr>\n",
       "      <th>1</th>\n",
       "      <td>3/2/2020</td>\n",
       "      <td>DKI Jakarta</td>\n",
       "      <td>2</td>\n",
       "      <td>NaN</td>\n",
       "      <td>NaN</td>\n",
       "      <td>491</td>\n",
       "      <td>20.0</td>\n",
       "      <td>39.0</td>\n",
       "    </tr>\n",
       "    <tr>\n",
       "      <th>2</th>\n",
       "      <td>3/2/2020</td>\n",
       "      <td>Indonesia</td>\n",
       "      <td>2</td>\n",
       "      <td>NaN</td>\n",
       "      <td>NaN</td>\n",
       "      <td>2</td>\n",
       "      <td>NaN</td>\n",
       "      <td>NaN</td>\n",
       "    </tr>\n",
       "    <tr>\n",
       "      <th>3</th>\n",
       "      <td>3/2/2020</td>\n",
       "      <td>Jawa Barat</td>\n",
       "      <td>3</td>\n",
       "      <td>NaN</td>\n",
       "      <td>NaN</td>\n",
       "      <td>12</td>\n",
       "      <td>5.0</td>\n",
       "      <td>135.0</td>\n",
       "    </tr>\n",
       "    <tr>\n",
       "      <th>4</th>\n",
       "      <td>3/2/2020</td>\n",
       "      <td>Riau</td>\n",
       "      <td>1</td>\n",
       "      <td>NaN</td>\n",
       "      <td>NaN</td>\n",
       "      <td>2</td>\n",
       "      <td>1.0</td>\n",
       "      <td>1.0</td>\n",
       "    </tr>\n",
       "  </tbody>\n",
       "</table>\n",
       "</div>"
      ],
      "text/plain": [
       "       Date     Location  New Cases  New Deaths  New Recovered  Total Cases  \\\n",
       "0  3/1/2020  DKI Jakarta          2         NaN            NaN          489   \n",
       "1  3/2/2020  DKI Jakarta          2         NaN            NaN          491   \n",
       "2  3/2/2020    Indonesia          2         NaN            NaN            2   \n",
       "3  3/2/2020   Jawa Barat          3         NaN            NaN           12   \n",
       "4  3/2/2020         Riau          1         NaN            NaN            2   \n",
       "\n",
       "   Total Deaths  Total Recovered  \n",
       "0          20.0             39.0  \n",
       "1          20.0             39.0  \n",
       "2           NaN              NaN  \n",
       "3           5.0            135.0  \n",
       "4           1.0              1.0  "
      ]
     },
     "execution_count": 1,
     "metadata": {},
     "output_type": "execute_result"
    }
   ],
   "source": [
    "#buat dataframe\n",
    "import pandas as pd\n",
    "import numpy as np\n",
    "data = {'Date': ['3/1/2020', '3/2/2020', '3/2/2020', '3/2/2020', '3/2/2020'], 'Location': ['DKI Jakarta', 'DKI Jakarta', 'Indonesia', 'Jawa Barat', 'Riau'], 'New Cases': [2, 2, 2, 3, 1], 'New Deaths': [np.nan, np.nan, np.nan, np.nan, np.nan], 'New Recovered': [np.nan, np.nan, np.nan, np.nan, np.nan], 'Total Cases': [489, 491, 2, 12, 2], 'Total Deaths': [20, 20, np.nan, 5, 1], 'Total Recovered': [39, 39, np.nan, 135, 1]}\n",
    "df1 = df = pd.DataFrame(data)\n",
    "df"
   ]
  },
  {
   "cell_type": "code",
   "execution_count": 50,
   "id": "a9c71716",
   "metadata": {},
   "outputs": [
    {
     "name": "stdout",
     "output_type": "stream",
     "text": [
      "3/2/2020    4\n",
      "3/1/2020    1\n",
      "Name: Date, dtype: int64\n",
      "\n",
      "\n",
      "DKI Jakarta    2\n",
      "Indonesia      1\n",
      "Jawa Barat     1\n",
      "Riau           1\n",
      "Name: Location, dtype: int64\n",
      "\n",
      "\n",
      "2    3\n",
      "3    1\n",
      "1    1\n",
      "Name: New Cases, dtype: int64\n",
      "\n",
      "\n",
      "NaN    5\n",
      "Name: New Deaths, dtype: int64\n",
      "\n",
      "\n",
      "NaN    5\n",
      "Name: New Recovered, dtype: int64\n",
      "\n",
      "\n",
      "2      2\n",
      "489    1\n",
      "491    1\n",
      "12     1\n",
      "Name: Total Cases, dtype: int64\n",
      "\n",
      "\n",
      "20.0    2\n",
      "NaN     1\n",
      "5.0     1\n",
      "1.0     1\n",
      "Name: Total Deaths, dtype: int64\n",
      "\n",
      "\n",
      "39.0     2\n",
      "NaN      1\n",
      "135.0    1\n",
      "1.0      1\n",
      "Name: Total Recovered, dtype: int64\n",
      "\n",
      "\n"
     ]
    }
   ],
   "source": [
    "#memakai value_count()\n",
    "for col in df.columns:\n",
    "    print(df[col].value_counts(dropna = False))\n",
    "    print(\"\\n\")"
   ]
  },
  {
   "cell_type": "markdown",
   "id": "67b099c9",
   "metadata": {},
   "source": [
    "2). Summary of the numerical attributes"
   ]
  },
  {
   "cell_type": "code",
   "execution_count": 51,
   "id": "95ea259e",
   "metadata": {},
   "outputs": [
    {
     "name": "stdout",
     "output_type": "stream",
     "text": [
      "            Date     Location  New Cases  New Deaths  New Recovered  \\\n",
      "count          5            5   5.000000         0.0            0.0   \n",
      "unique         2            4        NaN         NaN            NaN   \n",
      "top     3/2/2020  DKI Jakarta        NaN         NaN            NaN   \n",
      "freq           4            2        NaN         NaN            NaN   \n",
      "mean         NaN          NaN   2.000000         NaN            NaN   \n",
      "std          NaN          NaN   0.707107         NaN            NaN   \n",
      "min          NaN          NaN   1.000000         NaN            NaN   \n",
      "25%          NaN          NaN   2.000000         NaN            NaN   \n",
      "50%          NaN          NaN   2.000000         NaN            NaN   \n",
      "75%          NaN          NaN   2.000000         NaN            NaN   \n",
      "max          NaN          NaN   3.000000         NaN            NaN   \n",
      "\n",
      "        Total Cases  Total Deaths  Total Recovered  \n",
      "count      5.000000      4.000000         4.000000  \n",
      "unique          NaN           NaN              NaN  \n",
      "top             NaN           NaN              NaN  \n",
      "freq            NaN           NaN              NaN  \n",
      "mean     199.200000     11.500000        53.500000  \n",
      "std      265.495198      9.949874        57.210139  \n",
      "min        2.000000      1.000000         1.000000  \n",
      "25%        2.000000      4.000000        29.500000  \n",
      "50%       12.000000     12.500000        39.000000  \n",
      "75%      489.000000     20.000000        63.000000  \n",
      "max      491.000000     20.000000       135.000000  \n"
     ]
    }
   ],
   "source": [
    "#memakai describe method\n",
    "df.dropna(inplace = False)\n",
    "print(df.describe(include = ['object', 'float', 'int']))"
   ]
  },
  {
   "cell_type": "markdown",
   "id": "2cae7b1f",
   "metadata": {},
   "source": [
    "3). replace missing data with '0' or mean value"
   ]
  },
  {
   "cell_type": "code",
   "execution_count": 52,
   "id": "b28dfde6",
   "metadata": {},
   "outputs": [
    {
     "name": "stdout",
     "output_type": "stream",
     "text": [
      "       Date     Location  New Cases  New Deaths  New Recovered  Total Cases  \\\n",
      "0  3/1/2020  DKI Jakarta          2         0.0            0.0          489   \n",
      "1  3/2/2020  DKI Jakarta          2         0.0            0.0          491   \n",
      "2  3/2/2020    Indonesia          2         0.0            0.0            2   \n",
      "3  3/2/2020   Jawa Barat          3         0.0            0.0           12   \n",
      "4  3/2/2020         Riau          1         0.0            0.0            2   \n",
      "\n",
      "   Total Deaths  Total Recovered  \n",
      "0          20.0             39.0  \n",
      "1          20.0             39.0  \n",
      "2          11.5             53.5  \n",
      "3           5.0            135.0  \n",
      "4           1.0              1.0  \n"
     ]
    }
   ],
   "source": [
    "for col in df.columns:\n",
    "    if(df[col].isnull().any()): #check whether a column has nan\n",
    "        mean_value = df[col].mean()\n",
    "        if(np.isnan(mean_value)): #check if mean_value is nan\n",
    "            df1[col] = df[col].fillna(0)\n",
    "        else:\n",
    "            df1[col] = df[col].fillna(mean_value)\n",
    "\n",
    "print(df1)"
   ]
  },
  {
   "cell_type": "markdown",
   "id": "f574b5b5",
   "metadata": {},
   "source": [
    "3). make a histogram"
   ]
  },
  {
   "cell_type": "code",
   "execution_count": 54,
   "id": "94f49448",
   "metadata": {},
   "outputs": [
    {
     "data": {
      "text/plain": [
       "<AxesSubplot:ylabel='Frequency'>"
      ]
     },
     "execution_count": 54,
     "metadata": {},
     "output_type": "execute_result"
    },
    {
     "data": {
      "image/png": "[encoded data removed]",
      "text/plain": [
       "<Figure size 432x288 with 1 Axes>"
      ]
     },
     "metadata": {
      "needs_background": "light"
     },
     "output_type": "display_data"
    }
   ],
   "source": [
    "#untuk 1 histogram dengan semua attributes\n",
    "df1.plot.hist(bins = 30, alpha = 0.75)"
   ]
  },
  {
   "cell_type": "code",
   "execution_count": 55,
   "id": "2e344ab1",
   "metadata": {},
   "outputs": [
    {
     "data": {
      "text/plain": [
       "array([[<AxesSubplot:title={'center':'New Cases'}>,\n",
       "        <AxesSubplot:title={'center':'New Deaths'}>],\n",
       "       [<AxesSubplot:title={'center':'New Recovered'}>,\n",
       "        <AxesSubplot:title={'center':'Total Cases'}>],\n",
       "       [<AxesSubplot:title={'center':'Total Deaths'}>,\n",
       "        <AxesSubplot:title={'center':'Total Recovered'}>]], dtype=object)"
      ]
     },
     "execution_count": 55,
     "metadata": {},
     "output_type": "execute_result"
    },
    {
     "data": {
      "image/png": "[encoded data removed]",
      "text/plain": [
       "<Figure size 432x288 with 6 Axes>"
      ]
     },
     "metadata": {
      "needs_background": "light"
     },
     "output_type": "display_data"
    }
   ],
   "source": [
    "#untuk masing-masing attributes\n",
    "df1.hist()"
   ]
  }
 ],
 "metadata": {
  "kernelspec": {
   "display_name": "Python 3 (ipykernel)",
   "language": "python",
   "name": "python3"
  },
  "language_info": {
   "codemirror_mode": {
    "name": "ipython",
    "version": 3
   },
   "file_extension": ".py",
   "mimetype": "text/x-python",
   "name": "python",
   "nbconvert_exporter": "python",
   "pygments_lexer": "ipython3",
   "version": "3.9.7"
  }
 },
 "nbformat": 4,
 "nbformat_minor": 5
}
